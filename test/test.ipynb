{
 "cells": [
  {
   "cell_type": "code",
   "execution_count": 3,
   "metadata": {
    "pycharm": {
     "name": "#%%\n"
    }
   },
   "outputs": [],
   "source": [
    "import numpy as np\n",
    "import torch\n",
    "import os\n",
    "import time\n",
    "from collections import Counter"
   ]
  },
  {
   "cell_type": "code",
   "execution_count": 5,
   "outputs": [
    {
     "name": "stdout",
     "output_type": "stream",
     "text": [
      "[[1 1 1 1]\n",
      " [0 0 1 0]]\n"
     ]
    },
    {
     "data": {
      "text/plain": "array([[[[9, 8, 8, 5],\n         [3, 2, 5, 4]],\n\n        [[9, 8, 8, 5],\n         [3, 2, 5, 4]],\n\n        [[9, 8, 8, 5],\n         [3, 2, 5, 4]],\n\n        [[9, 8, 8, 5],\n         [3, 2, 5, 4]]],\n\n\n       [[[7, 2, 3, 0],\n         [6, 5, 4, 7]],\n\n        [[7, 2, 3, 0],\n         [6, 5, 4, 7]],\n\n        [[9, 8, 8, 5],\n         [3, 2, 5, 4]],\n\n        [[7, 2, 3, 0],\n         [6, 5, 4, 7]]]])"
     },
     "execution_count": 5,
     "metadata": {},
     "output_type": "execute_result"
    }
   ],
   "source": [
    "a = np.array([[[7, 2, 3, 0],\n",
    "               [6, 5, 4, 7]],\n",
    "              [[9, 8, 8, 5],\n",
    "               [3, 2, 5, 4]]])\n",
    "idx = np.argmax(a, axis=0)\n",
    "print(idx)\n",
    "a[idx]"
   ],
   "metadata": {
    "collapsed": false,
    "pycharm": {
     "name": "#%%\n"
    }
   }
  },
  {
   "cell_type": "code",
   "execution_count": 6,
   "outputs": [
    {
     "name": "stdout",
     "output_type": "stream",
     "text": [
      "Parameter containing:\n",
      "tensor([[[[0., 0., 0.],\n",
      "          [0., 1., 0.],\n",
      "          [0., 0., 0.]]]], grad_fn=<CopySlices>)\n",
      "Parameter containing:\n",
      "tensor([[[[0., 0., 0.],\n",
      "          [0., 0., 0.],\n",
      "          [0., 1., 0.]]]], grad_fn=<CopySlices>)\n",
      "Parameter containing:\n",
      "tensor([[[[0., 0., 0.],\n",
      "          [0., 0., 1.],\n",
      "          [0., 0., 0.]]]], grad_fn=<CopySlices>)\n",
      "Parameter containing:\n",
      "tensor([[[[0., 0., 0.],\n",
      "          [0., 0., 0.],\n",
      "          [0., 0., 1.]]]], grad_fn=<CopySlices>)\n",
      "torch.Size([1, 4, 8, 8])\n",
      "torch.Size([1, 4, 8, 8])\n"
     ]
    }
   ],
   "source": [
    "weight1 = [[0, 0, 0], [0, 1., 0], [0, 0, 0]]\n",
    "weight2 = [[0, 0, 0], [0, 0, 1.], [0, 0, 0]]\n",
    "weight3 = [[0, 0, 0], [0, 0, 0], [0, 1., 0]]\n",
    "weight4 = [[0, 0, 0], [0, 0, 0], [0, 0, 1.]]\n",
    "x = torch.arange(1 * 16 * 16, dtype=torch.float32).view(1, 1, 16, 16)\n",
    "parts = []\n",
    "for weight in [weight1, weight3, weight2, weight4]:\n",
    "    conv = torch.nn.Conv2d(1, 1, 3, 2, 1, bias=False)\n",
    "    conv.weight[:] = torch.tensor(weight).view(conv.weight.shape)\n",
    "    print(conv.weight)\n",
    "    res = conv(x)\n",
    "    parts.append(res)\n",
    "    # print(res.shape)\n",
    "res = torch.cat(parts, dim=1)\n",
    "print(res.shape)\n",
    "res1 = torch.cat([x[..., ::2, ::2], x[..., 1::2, ::2], x[..., ::2, 1::2], x[..., 1::2, 1::2]], 1)\n",
    "print(res1.shape)"
   ],
   "metadata": {
    "collapsed": false,
    "pycharm": {
     "name": "#%%\n"
    }
   }
  },
  {
   "cell_type": "code",
   "execution_count": 9,
   "outputs": [
    {
     "data": {
      "text/plain": "2"
     },
     "execution_count": 9,
     "metadata": {},
     "output_type": "execute_result"
    }
   ],
   "source": [
    "a = torch.tensor([[1,2],[3,4],[5,6]])\n",
    "a.size(1)"
   ],
   "metadata": {
    "collapsed": false,
    "pycharm": {
     "name": "#%%\n"
    }
   }
  },
  {
   "cell_type": "code",
   "execution_count": 19,
   "outputs": [
    {
     "data": {
      "text/plain": "(1, 2, 3)"
     },
     "execution_count": 19,
     "metadata": {},
     "output_type": "execute_result"
    }
   ],
   "source": [
    "torch.add()\n"
   ],
   "metadata": {
    "collapsed": false,
    "pycharm": {
     "name": "#%%\n"
    }
   }
  },
  {
   "cell_type": "code",
   "execution_count": null,
   "outputs": [],
   "source": [],
   "metadata": {
    "collapsed": false,
    "pycharm": {
     "name": "#%%\n"
    }
   }
  }
 ],
 "metadata": {
  "kernelspec": {
   "display_name": "PyCharm (yolov5)",
   "language": "python",
   "name": "pycharm-4eb31740"
  },
  "language_info": {
   "codemirror_mode": {
    "name": "ipython",
    "version": 3
   },
   "file_extension": ".py",
   "mimetype": "text/x-python",
   "name": "python",
   "nbconvert_exporter": "python",
   "pygments_lexer": "ipython3",
   "version": "3.8.3"
  }
 },
 "nbformat": 4,
 "nbformat_minor": 1
}